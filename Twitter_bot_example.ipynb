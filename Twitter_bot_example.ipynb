{
 "cells": [
  {
   "cell_type": "code",
   "execution_count": 5,
   "metadata": {},
   "outputs": [],
   "source": [
    "import tweepy\n",
    "import os\n",
    "import random"
   ]
  },
  {
   "cell_type": "code",
   "execution_count": 6,
   "metadata": {},
   "outputs": [],
   "source": [
    "#get twitter auth creds\n",
    "CONSUMER_KEY=os.getenv(\"TWITTER_CONSUMER_KEY\")\n",
    "CONSUMER_SECRET=os.getenv(\"TWITTER_CONSUMER_SECRET\")\n",
    "ACCESS_TOKEN=os.getenv(\"TWITTER_ACCESS_TOKEN\")\n",
    "ACCESS_TOKEN_SECRET=os.getenv(\"TWITTER_ACCESS_TOKEN_SECRET\")\n",
    "BEARER_TOKEN=os.getenv(\"BEARER_TOKEN\")"
   ]
  },
  {
   "cell_type": "code",
   "execution_count": 16,
   "metadata": {},
   "outputs": [
    {
     "name": "stdout",
     "output_type": "stream",
     "text": [
      "currently there are 10 statuses\n",
      "currently there are 10 statuses\n",
      "this will be the 11th status\n",
      "Test tweet number 11 wow wow wowowow\n",
      "currently there are 11 statuses\n",
      "this will be the 12th status\n",
      "Test tweet number 12 wow wow wowowow\n",
      "currently there are 12 statuses\n",
      "this will be the 13th status\n",
      "Test tweet number 13 wow wow wowowow\n",
      "currently there are 13 statuses\n",
      "this will be the 14th status\n",
      "Test tweet number 14 wow wow wowowow\n",
      "currently there are 14 statuses\n",
      "this will be the 15th status\n",
      "Test tweet number 15 wow wow wowowow\n"
     ]
    }
   ],
   "source": [
    "# Authenticate to Twitter\n",
    "auth = tweepy.OAuthHandler(CONSUMER_KEY, CONSUMER_SECRET)\n",
    "auth.set_access_token(ACCESS_TOKEN, ACCESS_TOKEN_SECRET)\n",
    "\n",
    "# Create API object\n",
    "api = tweepy.API(auth)\n",
    "\n",
    "# This is the ID of @NestleBot2020 (from http://gettwitterid.com/)\n",
    "id = 1329068980129177600\n",
    "  \n",
    "# fetch the user \n",
    "user = api.get_user(id) \n",
    "\n",
    "# fetch the statuses_count attribute \n",
    "statuses_count = user.statuses_count  \n",
    "\n",
    "target_count=statuses_count+5\n",
    "\n",
    "while statuses_count=<target_count:\n",
    "    \n",
    "    # tweet the tweet\n",
    "    api.update_status(f\"Test tweet number {statuses_count+1} wow wow wowowow\")\n",
    "    \n",
    "    # update statuses_count \n",
    "    # fetching the user \n",
    "    user = api.get_user(id) \n",
    "    \n",
    "    # fetch the statuses_count attribute \n",
    "    statuses_count = user.statuses_count "
   ]
  }
 ],
 "metadata": {
  "kernelspec": {
   "display_name": "Python 3",
   "language": "python",
   "name": "python3"
  },
  "language_info": {
   "codemirror_mode": {
    "name": "ipython",
    "version": 3
   },
   "file_extension": ".py",
   "mimetype": "text/x-python",
   "name": "python",
   "nbconvert_exporter": "python",
   "pygments_lexer": "ipython3",
   "version": "3.8.6"
  }
 },
 "nbformat": 4,
 "nbformat_minor": 4
}
