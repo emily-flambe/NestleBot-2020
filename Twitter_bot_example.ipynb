{
 "cells": [
  {
   "cell_type": "code",
   "execution_count": 1,
   "metadata": {},
   "outputs": [],
   "source": [
    "import tweepy\n",
    "import os"
   ]
  },
  {
   "cell_type": "code",
   "execution_count": 2,
   "metadata": {},
   "outputs": [],
   "source": [
    "#get twitter auth creds\n",
    "CONSUMER_KEY=os.getenv(\"TWITTER_CONSUMER_KEY\")\n",
    "CONSUMER_SECRET=os.getenv(\"TWITTER_CONSUMER_SECRET\")\n",
    "ACCESS_TOKEN=os.getenv(\"TWITTER_ACCESS_TOKEN\")\n",
    "ACCESS_TOKEN_SECRET=os.getenv(\"TWITTER_ACCESS_TOKEN_SECRET\")\n",
    "BEARER_TOKEN=os.getenv(\"BEARER_TOKEN\")"
   ]
  },
  {
   "cell_type": "code",
   "execution_count": 4,
   "metadata": {},
   "outputs": [
    {
     "data": {
      "text/plain": [
       "Status(_api=<tweepy.api.API object at 0x110521220>, _json={'created_at': 'Wed Nov 18 15:17:07 +0000 2020', 'id': 1329081206256746500, 'id_str': '1329081206256746500', 'text': 'Fuck Nestle!!!', 'truncated': False, 'entities': {'hashtags': [], 'symbols': [], 'user_mentions': [], 'urls': []}, 'source': '', 'in_reply_to_status_id': None, 'in_reply_to_status_id_str': None, 'in_reply_to_user_id': None, 'in_reply_to_user_id_str': None, 'in_reply_to_screen_name': None, 'user': {'id': 1329068980129177600, 'id_str': '1329068980129177600', 'name': 'Fuck Nestle', 'screen_name': 'NestleBot2020', 'location': '', 'description': 'Nestle is bad and if you give them money you should feel bad', 'url': None, 'entities': {'description': {'urls': []}}, 'protected': False, 'followers_count': 0, 'friends_count': 0, 'listed_count': 0, 'created_at': 'Wed Nov 18 14:28:44 +0000 2020', 'favourites_count': 0, 'utc_offset': None, 'time_zone': None, 'geo_enabled': False, 'verified': False, 'statuses_count': 2, 'lang': None, 'contributors_enabled': False, 'is_translator': False, 'is_translation_enabled': False, 'profile_background_color': 'F5F8FA', 'profile_background_image_url': None, 'profile_background_image_url_https': None, 'profile_background_tile': False, 'profile_image_url': 'http://pbs.twimg.com/profile_images/1329069590412976131/eLrXdp-s_normal.png', 'profile_image_url_https': 'https://pbs.twimg.com/profile_images/1329069590412976131/eLrXdp-s_normal.png', 'profile_link_color': '1DA1F2', 'profile_sidebar_border_color': 'C0DEED', 'profile_sidebar_fill_color': 'DDEEF6', 'profile_text_color': '333333', 'profile_use_background_image': True, 'has_extended_profile': True, 'default_profile': True, 'default_profile_image': False, 'following': False, 'follow_request_sent': False, 'notifications': False, 'translator_type': 'none'}, 'geo': None, 'coordinates': None, 'place': None, 'contributors': None, 'is_quote_status': False, 'retweet_count': 0, 'favorite_count': 0, 'favorited': False, 'retweeted': False, 'lang': 'en'}, created_at=datetime.datetime(2020, 11, 18, 15, 17, 7), id=1329081206256746500, id_str='1329081206256746500', text='Fuck Nestle!!!', truncated=False, entities={'hashtags': [], 'symbols': [], 'user_mentions': [], 'urls': []}, source='', source_url=None, in_reply_to_status_id=None, in_reply_to_status_id_str=None, in_reply_to_user_id=None, in_reply_to_user_id_str=None, in_reply_to_screen_name=None, author=User(_api=<tweepy.api.API object at 0x110521220>, _json={'id': 1329068980129177600, 'id_str': '1329068980129177600', 'name': 'Fuck Nestle', 'screen_name': 'NestleBot2020', 'location': '', 'description': 'Nestle is bad and if you give them money you should feel bad', 'url': None, 'entities': {'description': {'urls': []}}, 'protected': False, 'followers_count': 0, 'friends_count': 0, 'listed_count': 0, 'created_at': 'Wed Nov 18 14:28:44 +0000 2020', 'favourites_count': 0, 'utc_offset': None, 'time_zone': None, 'geo_enabled': False, 'verified': False, 'statuses_count': 2, 'lang': None, 'contributors_enabled': False, 'is_translator': False, 'is_translation_enabled': False, 'profile_background_color': 'F5F8FA', 'profile_background_image_url': None, 'profile_background_image_url_https': None, 'profile_background_tile': False, 'profile_image_url': 'http://pbs.twimg.com/profile_images/1329069590412976131/eLrXdp-s_normal.png', 'profile_image_url_https': 'https://pbs.twimg.com/profile_images/1329069590412976131/eLrXdp-s_normal.png', 'profile_link_color': '1DA1F2', 'profile_sidebar_border_color': 'C0DEED', 'profile_sidebar_fill_color': 'DDEEF6', 'profile_text_color': '333333', 'profile_use_background_image': True, 'has_extended_profile': True, 'default_profile': True, 'default_profile_image': False, 'following': False, 'follow_request_sent': False, 'notifications': False, 'translator_type': 'none'}, id=1329068980129177600, id_str='1329068980129177600', name='Fuck Nestle', screen_name='NestleBot2020', location='', description='Nestle is bad and if you give them money you should feel bad', url=None, entities={'description': {'urls': []}}, protected=False, followers_count=0, friends_count=0, listed_count=0, created_at=datetime.datetime(2020, 11, 18, 14, 28, 44), favourites_count=0, utc_offset=None, time_zone=None, geo_enabled=False, verified=False, statuses_count=2, lang=None, contributors_enabled=False, is_translator=False, is_translation_enabled=False, profile_background_color='F5F8FA', profile_background_image_url=None, profile_background_image_url_https=None, profile_background_tile=False, profile_image_url='http://pbs.twimg.com/profile_images/1329069590412976131/eLrXdp-s_normal.png', profile_image_url_https='https://pbs.twimg.com/profile_images/1329069590412976131/eLrXdp-s_normal.png', profile_link_color='1DA1F2', profile_sidebar_border_color='C0DEED', profile_sidebar_fill_color='DDEEF6', profile_text_color='333333', profile_use_background_image=True, has_extended_profile=True, default_profile=True, default_profile_image=False, following=False, follow_request_sent=False, notifications=False, translator_type='none'), user=User(_api=<tweepy.api.API object at 0x110521220>, _json={'id': 1329068980129177600, 'id_str': '1329068980129177600', 'name': 'Fuck Nestle', 'screen_name': 'NestleBot2020', 'location': '', 'description': 'Nestle is bad and if you give them money you should feel bad', 'url': None, 'entities': {'description': {'urls': []}}, 'protected': False, 'followers_count': 0, 'friends_count': 0, 'listed_count': 0, 'created_at': 'Wed Nov 18 14:28:44 +0000 2020', 'favourites_count': 0, 'utc_offset': None, 'time_zone': None, 'geo_enabled': False, 'verified': False, 'statuses_count': 2, 'lang': None, 'contributors_enabled': False, 'is_translator': False, 'is_translation_enabled': False, 'profile_background_color': 'F5F8FA', 'profile_background_image_url': None, 'profile_background_image_url_https': None, 'profile_background_tile': False, 'profile_image_url': 'http://pbs.twimg.com/profile_images/1329069590412976131/eLrXdp-s_normal.png', 'profile_image_url_https': 'https://pbs.twimg.com/profile_images/1329069590412976131/eLrXdp-s_normal.png', 'profile_link_color': '1DA1F2', 'profile_sidebar_border_color': 'C0DEED', 'profile_sidebar_fill_color': 'DDEEF6', 'profile_text_color': '333333', 'profile_use_background_image': True, 'has_extended_profile': True, 'default_profile': True, 'default_profile_image': False, 'following': False, 'follow_request_sent': False, 'notifications': False, 'translator_type': 'none'}, id=1329068980129177600, id_str='1329068980129177600', name='Fuck Nestle', screen_name='NestleBot2020', location='', description='Nestle is bad and if you give them money you should feel bad', url=None, entities={'description': {'urls': []}}, protected=False, followers_count=0, friends_count=0, listed_count=0, created_at=datetime.datetime(2020, 11, 18, 14, 28, 44), favourites_count=0, utc_offset=None, time_zone=None, geo_enabled=False, verified=False, statuses_count=2, lang=None, contributors_enabled=False, is_translator=False, is_translation_enabled=False, profile_background_color='F5F8FA', profile_background_image_url=None, profile_background_image_url_https=None, profile_background_tile=False, profile_image_url='http://pbs.twimg.com/profile_images/1329069590412976131/eLrXdp-s_normal.png', profile_image_url_https='https://pbs.twimg.com/profile_images/1329069590412976131/eLrXdp-s_normal.png', profile_link_color='1DA1F2', profile_sidebar_border_color='C0DEED', profile_sidebar_fill_color='DDEEF6', profile_text_color='333333', profile_use_background_image=True, has_extended_profile=True, default_profile=True, default_profile_image=False, following=False, follow_request_sent=False, notifications=False, translator_type='none'), geo=None, coordinates=None, place=None, contributors=None, is_quote_status=False, retweet_count=0, favorite_count=0, favorited=False, retweeted=False, lang='en')"
      ]
     },
     "execution_count": 4,
     "metadata": {},
     "output_type": "execute_result"
    }
   ],
   "source": [
    "# Authenticate to Twitter\n",
    "auth = tweepy.OAuthHandler(CONSUMER_KEY, CONSUMER_SECRET)\n",
    "auth.set_access_token(ACCESS_TOKEN, ACCESS_TOKEN_SECRET)\n",
    "\n",
    "# Create API object\n",
    "api = tweepy.API(auth)\n",
    "\n",
    "# Create a tweet\n",
    "api.update_status(\"Fuck Nestle!!!\")"
   ]
  }
 ],
 "metadata": {
  "kernelspec": {
   "display_name": "Python 3",
   "language": "python",
   "name": "python3"
  },
  "language_info": {
   "codemirror_mode": {
    "name": "ipython",
    "version": 3
   },
   "file_extension": ".py",
   "mimetype": "text/x-python",
   "name": "python",
   "nbconvert_exporter": "python",
   "pygments_lexer": "ipython3",
   "version": "3.8.6"
  }
 },
 "nbformat": 4,
 "nbformat_minor": 4
}
