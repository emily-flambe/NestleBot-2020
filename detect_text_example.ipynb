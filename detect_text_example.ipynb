{
 "cells": [
  {
   "cell_type": "markdown",
   "metadata": {},
   "source": [
    "# Detect text in image\n",
    "\n",
    "source: https://www.pyimagesearch.com/2018/08/20/opencv-text-detection-east-text-detector/\n",
    "\n",
    "I just made a function out of it to use in a twitter bot making tweets about shitty Nestle products\n",
    "\n",
    "All in a day's work!"
   ]
  },
  {
   "cell_type": "code",
   "execution_count": 11,
   "metadata": {},
   "outputs": [],
   "source": [
    "# import packages\n",
    "from imutils.object_detection import non_max_suppression\n",
    "import numpy as np\n",
    "import argparse\n",
    "import time\n",
    "import cv2"
   ]
  },
  {
   "cell_type": "code",
   "execution_count": 12,
   "metadata": {},
   "outputs": [],
   "source": [
    "def detect_text(path_to_image):\n",
    "    \n",
    "    '''\n",
    "    Input: path_to_image (file path to image, e.g. \"images/spoopy.jpg\")\n",
    "    Output: boolean ('True' if text was detected in image)\n",
    "    Sample usage:\n",
    "    \n",
    "    path_to_image=\"images/spoopy.jpg\"\n",
    "    detect_text(path_to_image)\n",
    "    \n",
    "    source code for EAST text detection strats: https://www.pyimagesearch.com/2018/08/20/opencv-text-detection-east-text-detector/\n",
    "    '''\n",
    "    \n",
    "    \n",
    "    # construct the argument parser and parse the arguments\n",
    "    ap = argparse.ArgumentParser()\n",
    "    ap.add_argument(\"-i\", \"--image\", type=str, default=path_to_image, help=\"path to input image\")\n",
    "    ap.add_argument(\"-east\", \"--east\", type=str, default=\"east/frozen_east_text_detection.pb\", help=\"path to input EAST text detector\")\n",
    "    ap.add_argument(\"-c\", \"--min-confidence\", type=float, default=0.5, help=\"minimum probability required to inspect a region\")\n",
    "    ap.add_argument(\"-w\", \"--width\", type=int, default=320, help=\"resized image width (should be multiple of 32)\")\n",
    "    ap.add_argument(\"-e\", \"--height\", type=int, default=320, help=\"resized image height (should be multiple of 32)\")\n",
    "    args = vars(ap.parse_args(args=[]))\n",
    "    \n",
    "    # load the input image and grab the image dimensions\n",
    "    image = cv2.imread(args[\"image\"])\n",
    "    orig = image.copy()\n",
    "    (H, W) = image.shape[:2]\n",
    "    \n",
    "    # set the new width and height and then determine the ratio in change\n",
    "    # for both the width and height\n",
    "    (newW, newH) = (args[\"width\"], args[\"height\"])\n",
    "    rW = W / float(newW)\n",
    "    rH = H / float(newH)\n",
    "\n",
    "    # resize the image and grab the new image dimensions\n",
    "    image = cv2.resize(image, (newW, newH))\n",
    "    (H, W) = image.shape[:2]\n",
    "    \n",
    "    # define the two output layer names for the EAST detector model that\n",
    "    # we are interested -- the first is the output probabilities and the\n",
    "    # second can be used to derive the bounding box coordinates of text\n",
    "    layerNames = [\"feature_fusion/Conv_7/Sigmoid\",\"feature_fusion/concat_3\"]\n",
    "    \n",
    "    # load the pre-trained EAST text detector\n",
    "    net = cv2.dnn.readNet(args[\"east\"])\n",
    "    \n",
    "    # construct a blob from the image and then perform a forward pass of\n",
    "    # the model to obtain the two output layer sets\n",
    "    blob = cv2.dnn.blobFromImage(image, 1.0, (W, H), (123.68, 116.78, 103.94), swapRB=True, crop=False)\n",
    "    net.setInput(blob)\n",
    "    (scores, geometry) = net.forward(layerNames)\n",
    "    \n",
    "    # grab the number of rows and columns from the scores volume, then\n",
    "    # initialize our set of bounding box rectangles and corresponding\n",
    "    # confidence scores\n",
    "    (numRows, numCols) = scores.shape[2:4]\n",
    "    rects = []\n",
    "    confidences = []\n",
    "    \n",
    "    # loop over the number of rows\n",
    "    for y in range(0, numRows):\n",
    "        # extract the scores (probabilities), followed by the geometrical\n",
    "        # data used to derive potential bounding box coordinates that\n",
    "        # surround text\n",
    "        scoresData = scores[0, 0, y]\n",
    "        xData0 = geometry[0, 0, y]\n",
    "        xData1 = geometry[0, 1, y]\n",
    "        xData2 = geometry[0, 2, y]\n",
    "        xData3 = geometry[0, 3, y]\n",
    "        anglesData = geometry[0, 4, y]\n",
    "    \n",
    "        # loop over the number of columns\n",
    "        for x in range(0, numCols):\n",
    "            # if our score does not have sufficient probability, ignore it\n",
    "            if scoresData[x] < args[\"min_confidence\"]:\n",
    "                continue\n",
    "    \n",
    "            # compute the offset factor as our resulting feature maps will\n",
    "            # be 4x smaller than the input image\n",
    "            (offsetX, offsetY) = (x * 4.0, y * 4.0)\n",
    "    \n",
    "            # extract the rotation angle for the prediction and then\n",
    "            # compute the sin and cosine\n",
    "            angle = anglesData[x]\n",
    "            cos = np.cos(angle)\n",
    "            sin = np.sin(angle)\n",
    "    \n",
    "            # use the geometry volume to derive the width and height of\n",
    "            # the bounding box\n",
    "            h = xData0[x] + xData2[x]\n",
    "            w = xData1[x] + xData3[x]\n",
    "    \n",
    "            # compute both the starting and ending (x, y)-coordinates for\n",
    "            # the text prediction bounding box\n",
    "            endX = int(offsetX + (cos * xData1[x]) + (sin * xData2[x]))\n",
    "            endY = int(offsetY - (sin * xData1[x]) + (cos * xData2[x]))\n",
    "            startX = int(endX - w)\n",
    "            startY = int(endY - h)\n",
    "    \n",
    "            # add the bounding box coordinates and probability score to\n",
    "            # our respective lists\n",
    "            rects.append((startX, startY, endX, endY))\n",
    "            confidences.append(scoresData[x])\n",
    "            \n",
    "    # apply non-maxima suppression to suppress weak, overlapping bounding\n",
    "    # boxes\n",
    "    boxes = non_max_suppression(np.array(rects), probs=confidences)\n",
    "    \n",
    "    #return boolean (True if \"boxes\" contains anything, ie. text was detected in the image)\n",
    "    return len(boxes)>0"
   ]
  },
  {
   "cell_type": "code",
   "execution_count": 13,
   "metadata": {},
   "outputs": [
    {
     "data": {
      "text/plain": [
       "False"
      ]
     },
     "execution_count": 13,
     "metadata": {},
     "output_type": "execute_result"
    }
   ],
   "source": [
    "#this is a photo of me with my favorite chicken. Her name is Spoopy. I love her. She is not text.\n",
    "path_to_image=\"images/test/spoopy.jpg\"\n",
    "detect_text(path_to_image)"
   ]
  },
  {
   "cell_type": "code",
   "execution_count": 14,
   "metadata": {},
   "outputs": [
    {
     "data": {
      "text/plain": [
       "True"
      ]
     },
     "execution_count": 14,
     "metadata": {},
     "output_type": "execute_result"
    }
   ],
   "source": [
    "#this is a photo of a can of Carnation - a deity in the pantheon of horrible Nestle products. It has text.\n",
    "path_to_image=\"images/test/nestle_carnation.jpg\"\n",
    "detect_text(path_to_image)"
   ]
  }
 ],
 "metadata": {
  "kernelspec": {
   "display_name": "Python 3",
   "language": "python",
   "name": "python3"
  },
  "language_info": {
   "codemirror_mode": {
    "name": "ipython",
    "version": 3
   },
   "file_extension": ".py",
   "mimetype": "text/x-python",
   "name": "python",
   "nbconvert_exporter": "python",
   "pygments_lexer": "ipython3",
   "version": "3.8.6"
  }
 },
 "nbformat": 4,
 "nbformat_minor": 4
}
