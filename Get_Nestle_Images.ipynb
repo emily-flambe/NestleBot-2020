{
 "cells": [
  {
   "cell_type": "markdown",
   "metadata": {},
   "source": [
    "# Get Nestle Product Images\n",
    "\n",
    "1. Extract product names from https://github.com/CharlesStover/peoplecott/blob/master/src/constants/children/children.ts\n",
    "\n",
    "2. Google image search [product]+' nestle food'\n",
    "\n",
    "### TODO:\n",
    "\n",
    "3. Choose a random image from the first page of results\n",
    "\n",
    "4. Tweet: \"Hello friends! Don't forget, [product] is a Nestle product! Nestle is an evil company. Don't buy it!"
   ]
  },
  {
   "cell_type": "code",
   "execution_count": 238,
   "metadata": {},
   "outputs": [],
   "source": [
    "import requests\n",
    "import re"
   ]
  },
  {
   "cell_type": "code",
   "execution_count": 47,
   "metadata": {},
   "outputs": [],
   "source": [
    "# get the freshest data from Charles Stover's github repo (peoplecott)\n",
    "url='https://raw.githubusercontent.com/CharlesStover/peoplecott/master/src/constants/children/children.ts'\n",
    "brands_raw_file = requests.get(url).text"
   ]
  },
  {
   "cell_type": "code",
   "execution_count": 219,
   "metadata": {},
   "outputs": [],
   "source": [
    "# idk how .ts files work but we can use regex to extract the brand names from it\n",
    "\n",
    "#get horrible nasty raw list of all rows in the file that match any of the patterns\n",
    "re1 = re.compile(r'([A-Z]+)+:', re.IGNORECASE) #text before a semicolon\n",
    "re2 = re.compile(r'\"([^\"]*)\"', re.IGNORECASE)  #text between double quotes\n",
    "re3 = re.compile(r\"'([^']*)'\", re.IGNORECASE)  #text between single quotes\n",
    "raw_list = re.findall(re1, brands_raw_file)+re.findall(re2, brands_raw_file)+re.findall(re3, brands_raw_file)\n",
    "\n",
    "#clean up the riff-raff\n",
    "exclude_list = [\"http\",\"NESTLE\",\"\\\"\",\",\",\".\",\"parent\",\"source\",\"CHILDREN\"]\n",
    "clean_list=[]\n",
    "for mystr in raw_list:\n",
    "    if all(x.upper() not in mystr.upper() for x in exclude_list):\n",
    "        clean_list.append(mystr)"
   ]
  },
  {
   "cell_type": "code",
   "execution_count": 235,
   "metadata": {},
   "outputs": [],
   "source": [
    "#pass all these product names into a bunch of google image search URLs\n",
    "url_base = 'https://www.google.com/search?q=QUERY&tbm=isch'\n",
    "image_search_queries = [x.replace(' ','+').replace('-','+').replace(\"'\",'')+'+nestle+food' for x in clean_list]\n",
    "urls = [url_base.replace('QUERY',x) for x in image_search_queries]"
   ]
  },
  {
   "cell_type": "code",
   "execution_count": null,
   "metadata": {},
   "outputs": [],
   "source": [
    "# TODO: use requests package to download image from search results\n",
    "# (random Nth result between 1 and 20)"
   ]
  },
  {
   "cell_type": "code",
   "execution_count": null,
   "metadata": {},
   "outputs": [],
   "source": [
    "# TODO: tweet it"
   ]
  },
  {
   "cell_type": "code",
   "execution_count": 237,
   "metadata": {},
   "outputs": [],
   "source": [
    "# TODO EXTRA CREDIT!: filter out images that don't contain text"
   ]
  },
  {
   "cell_type": "code",
   "execution_count": null,
   "metadata": {},
   "outputs": [],
   "source": [
    "# TODO EXTRA CREDIT!: push results to a google drive folder somewhere"
   ]
  }
 ],
 "metadata": {
  "kernelspec": {
   "display_name": "Python 3",
   "language": "python",
   "name": "python3"
  },
  "language_info": {
   "codemirror_mode": {
    "name": "ipython",
    "version": 3
   },
   "file_extension": ".py",
   "mimetype": "text/x-python",
   "name": "python",
   "nbconvert_exporter": "python",
   "pygments_lexer": "ipython3",
   "version": "3.8.6"
  }
 },
 "nbformat": 4,
 "nbformat_minor": 4
}
