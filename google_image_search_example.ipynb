{
 "cells": [
  {
   "cell_type": "markdown",
   "metadata": {},
   "source": [
    "# NestleBot 2020\n",
    "\n",
    "Google Image Search strats: https://pypi.org/project/Google-Images-Search/"
   ]
  },
  {
   "cell_type": "code",
   "execution_count": 8,
   "metadata": {},
   "outputs": [],
   "source": [
    "from google_images_search import GoogleImagesSearch\n",
    "import os\n",
    "import glob\n",
    "from detect_text import detect_text"
   ]
  },
  {
   "cell_type": "code",
   "execution_count": 14,
   "metadata": {},
   "outputs": [],
   "source": [
    "search_term='nestle candy'\n",
    "num_images=10"
   ]
  },
  {
   "cell_type": "code",
   "execution_count": 15,
   "metadata": {},
   "outputs": [
    {
     "name": "stdout",
     "output_type": "stream",
     "text": [
      "creating folder images/nestle candy...\n"
     ]
    }
   ],
   "source": [
    "# get GCS API key and CX id from environment variables\n",
    "GCS_DEVELOPER_KEY=os.getenv(\"GCS_DEVELOPER_KEY\")\n",
    "GCS_CX=os.getenv(\"GCS_CX\")\n",
    "\n",
    "# create GoogleImagesSearch object\n",
    "gis = GoogleImagesSearch(GCS_DEVELOPER_KEY, GCS_CX)\n",
    "    \n",
    "# define search params:\n",
    "_search_params = {\n",
    "     'q': search_term\n",
    "    ,'num': num_images\n",
    "    ,'imgType': 'photo'\n",
    "}\n",
    "    \n",
    "#create or empty target directory (where we will be saving images from Google Image Search)\n",
    "if not os.path.exists(f\"images/{search_term}\"):\n",
    "    print(f\"creating folder images/{search_term}...\")\n",
    "    os.makedirs(f\"images/{search_term}\")\n",
    "\n",
    "else:\n",
    "    print(f\"folder images/{search_term} already exists - clearing contents...\")\n",
    "    files = glob.glob(f\"images/{search_term}/*\")\n",
    "    for f in files:\n",
    "        os.remove(f)\n",
    "        \n",
    "# generate path for image download\n",
    "download_path=os.getcwd()+'/images/'+search_term\n",
    "\n",
    "# search, download, and resize:\n",
    "gis.search(search_params=_search_params\n",
    "           , path_to_dir=download_path\n",
    "           , width=200\n",
    "           , height=200)"
   ]
  },
  {
   "cell_type": "code",
   "execution_count": 19,
   "metadata": {},
   "outputs": [
    {
     "name": "stdout",
     "output_type": "stream",
     "text": [
      "processing images in images/nestle candy...\n",
      "images/nestle candy/20150217162834-nestle-chocolate-candy-products.jpg\n",
      "True\n",
      "\n",
      "images/nestle candy/Ferrero-to-merge-Ferrara-and-Nestle-US-candy-overhauling-Butterfinger_wrbm_large.jpg\n",
      "False\n",
      "\n",
      "images/nestle candy/498872491.jpg\n",
      "False\n",
      "\n",
      "images/nestle candy/Ferrero-completes-acquisition-of-Nestle-US-candy-business_wrbm_large.jpg\n",
      "True\n",
      "\n",
      "images/nestle candy/2017-06-15-17-25-12192008_10154300967314377_8922374445316033564_n_cropped_80.jpg\n",
      "True\n",
      "\n",
      "images/nestle candy/Nutella-owner-Ferrero-acquires-Nestle-s-US-candy-business_wrbm_large.jpg\n",
      "True\n",
      "\n",
      "images/nestle candy/51fMaiw+v7L.jpg\n",
      "True\n",
      "\n",
      "images/nestle candy/0002800008140.jpg\n",
      "True\n",
      "\n",
      "images/nestle candy/9BNYL.jpg\n",
      "True\n",
      "\n",
      "images/nestle candy/gettyimages-905729408.jpg\n",
      "True\n",
      "\n",
      "images/nestle candy/0117-bus-nestle-ferrero-01.jpg\n",
      "True\n",
      "\n",
      "images/nestle candy/Ferrero-to-merge-Ferrara-and-Nestle-US-candy-overhauling-Butterfinger.jpg\n",
      "False\n",
      "\n",
      "images/nestle candy/Nestle-may-sell-US-candy-business-to-multiple-companies_wrbm_large.jpg\n",
      "True\n",
      "\n",
      "images/nestle candy/ct-nestle-chocolate-bars-20180110.jpg\n",
      "True\n",
      "\n",
      "images/nestle candy/Hershey-Ferrero-submitted-final-bids-to-buy-Nestle-s-US-candy-business_wrbm_large.jpg\n",
      "True\n",
      "\n",
      "images/nestle candy/BF-AR577_NESTLE_P_20170615214114.jpg\n",
      "True\n",
      "\n",
      "images/nestle candy/918Df%2B2NSnL._SX569_.jpg\n",
      "True\n",
      "\n",
      "images/nestle candy/Nutella-owner-Ferrero-acquires-Nestle-s-US-candy-business.jpg\n",
      "True\n",
      "\n",
      "15\n"
     ]
    }
   ],
   "source": [
    "\n",
    "print(f\"processing images in images/{search_term}...\")\n",
    "files = glob.glob(f\"images/{search_term}/*\")\n",
    "for f in files:\n",
    "    print(f)\n",
    "    try:\n",
    "        result = detect_text(f)\n",
    "        print(result)\n",
    "        if result==False:\n",
    "            os.remove(f)\n",
    "            \n",
    "    except:\n",
    "        print(\"fake news (sad)\")\n",
    "    print(\"\")\n",
    "\n",
    "newfiles = glob.glob(f\"images/{search_term}/*\")\n",
    "print(len(newfiles))\n"
   ]
  },
  {
   "cell_type": "code",
   "execution_count": 18,
   "metadata": {},
   "outputs": [],
   "source": [
    "gis.next_page()"
   ]
  },
  {
   "cell_type": "code",
   "execution_count": null,
   "metadata": {},
   "outputs": [],
   "source": []
  }
 ],
 "metadata": {
  "kernelspec": {
   "display_name": "Python 3",
   "language": "python",
   "name": "python3"
  },
  "language_info": {
   "codemirror_mode": {
    "name": "ipython",
    "version": 3
   },
   "file_extension": ".py",
   "mimetype": "text/x-python",
   "name": "python",
   "nbconvert_exporter": "python",
   "pygments_lexer": "ipython3",
   "version": "3.8.6"
  }
 },
 "nbformat": 4,
 "nbformat_minor": 4
}
