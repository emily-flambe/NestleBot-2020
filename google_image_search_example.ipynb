{
 "cells": [
  {
   "cell_type": "markdown",
   "metadata": {},
   "source": [
    "# NestleBot 2020\n",
    "\n",
    "Google Image Search strats: https://pypi.org/project/Google-Images-Search/"
   ]
  },
  {
   "cell_type": "code",
   "execution_count": 1,
   "metadata": {},
   "outputs": [],
   "source": [
    "from google_images_search import GoogleImagesSearch\n",
    "import os\n",
    "import detect_text_function as dtf #lol"
   ]
  },
  {
   "cell_type": "code",
   "execution_count": 36,
   "metadata": {},
   "outputs": [],
   "source": [
    "%%capture\n",
    "\n",
    "# get GCS API key and CX id from environment variables\n",
    "GCS_DEVELOPER_KEY=os.getenv(\"GCS_DEVELOPER_KEY\")\n",
    "GCS_CX=os.getenv(\"GCS_CX\")\n",
    "\n",
    "# create GoogleImagesSearch object\n",
    "gis = GoogleImagesSearch(GCS_DEVELOPER_KEY, GCS_CX)\n",
    "\n",
    "# search term\n",
    "search_term = 'nestle'\n",
    "\n",
    "# how many images to download? this will be a parameter in a function someday I guess\n",
    "num_images = 10\n",
    "\n",
    "\n",
    "# define search params:\n",
    "_search_params = {\n",
    "     'q': search_term\n",
    "    ,'num': num_images\n",
    "    #,'safe': 'high|medium|off'\n",
    "    #,'fileType': 'png'\n",
    "    ,'imgType': 'photo'\n",
    "    #,'imgSize': 'huge|icon|large|medium|small|xlarge|xxlarge'\n",
    "    #,'imgDominantColor': 'black|blue|brown|gray|green|pink|purple|teal|white|yellow'\n",
    "    #,'rights': 'cc_publicdomain|cc_attribute|cc_sharealike|cc_noncommercial|cc_nonderived'\n",
    "}\n",
    "\n",
    "# generate path for image download\n",
    "folder_name='nestle'\n",
    "download_path=os.getcwd()+'/'+folder_name\n",
    "\n",
    "# search, download, and resize:\n",
    "gis.search(search_params=_search_params\n",
    "           , path_to_dir=download_path\n",
    "           , width=200\n",
    "           , height=200)"
   ]
  },
  {
   "cell_type": "code",
   "execution_count": 39,
   "metadata": {},
   "outputs": [
    {
     "name": "stdout",
     "output_type": "stream",
     "text": [
      "could not delete nestle/.ipynb_checkpoints... whatever it's probably fine\n"
     ]
    }
   ],
   "source": [
    "for filename in os.listdir(folder_name):\n",
    "    full_path=os.path.join(folder_name, filename)\n",
    "    try:\n",
    "        if (filename.endswith(\".jpg\") or filename.endswith(\".png\")) & dtf.detect_text(full_path):\n",
    "            pass\n",
    "        else:\n",
    "            os.remove(full_path)\n",
    "            print(f\"file removed (not a valid image): {full_path}\")\n",
    "    \n",
    "    except:\n",
    "        try:\n",
    "            os.remove(full_path)\n",
    "            print(f\"file removed (not a valid image): {full_path}\")\n",
    "            \n",
    "        except:\n",
    "            print(f\"could not delete {full_path}... whatever it's probably fine\")"
   ]
  }
 ],
 "metadata": {
  "kernelspec": {
   "display_name": "Python 3",
   "language": "python",
   "name": "python3"
  },
  "language_info": {
   "codemirror_mode": {
    "name": "ipython",
    "version": 3
   },
   "file_extension": ".py",
   "mimetype": "text/x-python",
   "name": "python",
   "nbconvert_exporter": "python",
   "pygments_lexer": "ipython3",
   "version": "3.8.6"
  }
 },
 "nbformat": 4,
 "nbformat_minor": 4
}
